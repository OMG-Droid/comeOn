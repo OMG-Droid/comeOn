{
 "cells": [
  {
   "cell_type": "code",
   "execution_count": null,
   "metadata": {},
   "outputs": [],
   "source": [
    "#高斯金字塔：cv2.pyrUp(img)  cv2.pyrDown(img)"
   ]
  },
  {
   "cell_type": "code",
   "execution_count": 1,
   "metadata": {},
   "outputs": [],
   "source": [
    "import cv2\n",
    "import matplotlib.pyplot as plt\n",
    "import numpy as np\n",
    "import math"
   ]
  },
  {
   "cell_type": "code",
   "execution_count": 50,
   "metadata": {},
   "outputs": [
    {
     "name": "stdout",
     "output_type": "stream",
     "text": [
      "(300, 270, 3)\n"
     ]
    }
   ],
   "source": [
    "img=cv2.imread('9.jpg')\n",
    "print(img.shape)\n",
    "cv2.imshow('t',img)\n",
    "cv2.waitKey(0)\n",
    "cv2.destroyAllWindows()"
   ]
  },
  {
   "cell_type": "code",
   "execution_count": 51,
   "metadata": {},
   "outputs": [
    {
     "name": "stdout",
     "output_type": "stream",
     "text": [
      "(600, 540, 3)\n"
     ]
    }
   ],
   "source": [
    "up=cv2.pyrUp(img)#进行向上取样-- 变大\n",
    "print(up.shape)#观察shape值的变化\n",
    "cv2.imshow('f',up)\n",
    "cv2.waitKey(0)\n",
    "cv2.destroyAllWindows()"
   ]
  },
  {
   "cell_type": "code",
   "execution_count": 52,
   "metadata": {},
   "outputs": [
    {
     "name": "stdout",
     "output_type": "stream",
     "text": [
      "(150, 135, 3)\n"
     ]
    }
   ],
   "source": [
    "down=cv2.pyrDown(img)#进行向下取样---变小\n",
    "print(down.shape)#观察shape值的变化\n",
    "cv2.imshow('f',down)\n",
    "cv2.waitKey(0)\n",
    "cv2.destroyAllWindows()"
   ]
  },
  {
   "cell_type": "code",
   "execution_count": 53,
   "metadata": {},
   "outputs": [],
   "source": [
    "#将一个图片先向上取样，再向下取样，得到的不是原图数据，会要改变\n",
    "up=cv2.pyrUp(img)\n",
    "down=cv2.pyrDown(up)\n",
    "res=np.hstack((down,img))#两个图片的像素值相同才可以用 一起展示\n",
    "cv2.imshow('f',res)\n",
    "cv2.waitKey(0)\n",
    "cv2.destroyAllWindows()"
   ]
  },
  {
   "cell_type": "code",
   "execution_count": 54,
   "metadata": {},
   "outputs": [
    {
     "name": "stdout",
     "output_type": "stream",
     "text": [
      "(600, 540, 3)\n",
      "(1200, 1080, 3)\n"
     ]
    }
   ],
   "source": [
    "up=cv2.pyrUp(img)#进行多次向上取样  图片成倍变大 多次向下取样同理\n",
    "print(up.shape)\n",
    "up1=cv2.pyrUp(up)\n",
    "print(up1.shape)\n",
    "cv2.imshow('f',up1)\n",
    "cv2.waitKey(0)\n",
    "cv2.destroyAllWindows()"
   ]
  },
  {
   "cell_type": "markdown",
   "metadata": {},
   "source": [
    "拉普拉斯金字塔：L=G-PyrUp(PyrDown(G))---L=img-(先缩小再放大的图片)  每一层都是相同的计算"
   ]
  },
  {
   "cell_type": "code",
   "execution_count": 66,
   "metadata": {},
   "outputs": [],
   "source": [
    "down=cv2.pyrDown(img)\n",
    "down_up=cv2.pyrUp(down)\n",
    "cv2.imshow('f',img-down_up)#img-down_up 两图片进行相减 得到轮廓\n",
    "cv2.waitKey(0)\n",
    "cv2.destroyAllWindows()"
   ]
  },
  {
   "cell_type": "markdown",
   "metadata": {},
   "source": [
    "图像轮廓：  cv2.findContours(img,mode,method) \n",
    "mode:轮廓检索模式\n",
    "    RETR_EXTERNAL:只检索最外面的轮廓\n",
    "    RETR_LIST:检索所有轮廓，并将其中一条保存在链表当中\n",
    "    RETR_CCOMP：检索所有轮廓，并将他们组织成两层：顶层是各部分的外部边界，第二层是空洞的边界\n",
    "    RETR_TREE:检索所有的轮廓，并重构嵌套轮廓的整个层次\n",
    "method:轮廓逼近方法\n",
    "     CHAIN_APPROX_NONE:以Freeman链码的方式输出轮廓，所有输出方法输出多边形（顶点的序列）。\n",
    "     CHAIN_APPROX_SIMPLE:压缩水平的、垂直的和斜的部分，函数只保留终点部分"
   ]
  },
  {
   "cell_type": "code",
   "execution_count": 4,
   "metadata": {},
   "outputs": [],
   "source": [
    "import cv2\n",
    "import matplotlib.pyplot as plt\n",
    "import numpy as np"
   ]
  },
  {
   "cell_type": "code",
   "execution_count": 8,
   "metadata": {},
   "outputs": [],
   "source": [
    "#提高准确率 使用二值图像\n",
    "img=cv2.imread('9.jpg')#1.导入图像\n",
    "gray=cv2.cvtColor(img,cv2.COLOR_BGR2GRAY)#2.转化成灰度图\n",
    "ret,thresh=cv2.threshold(gray,127,255,cv2.THRESH_BINARY)#3.阈值处理，转化为二值图像\n",
    "cv2.imshow('thresh',thresh)\n",
    "cv2.waitKey(0)\n",
    "cv2.destroyAllWindows()"
   ]
  },
  {
   "cell_type": "code",
   "execution_count": 10,
   "metadata": {},
   "outputs": [],
   "source": [
    "#做完图像的处理才可以进行检测操作\n",
    "contours,hierarchy=cv2.findContours(thresh,cv2.RETR_TREE,cv2.CHAIN_APPROX_NONE)\n",
    "#binary:转化之后的二值图像\n",
    "#contours：轮廓点，轮廓的信息\n",
    "#hierarchy:层级                             #findContours: 在新版本的opencv中  只能返回 contours 和hierarchy不能返回binary"
   ]
  },
  {
   "cell_type": "markdown",
   "metadata": {},
   "source": [
    "绘制轮廓"
   ]
  },
  {
   "cell_type": "code",
   "execution_count": 16,
   "metadata": {},
   "outputs": [],
   "source": [
    "#传入绘制图像，轮廓，轮廓索引，颜色模式和线条厚度\n",
    "#原图需要copy，否则图像将会每draw一次改变一次\n",
    "draw_img=img.copy()\n",
    "res=cv2.drawContours(draw_img,contours,-1,(0,0,255),2)#颜色模式是BGR形式（0，0，255）  -1：检索全部轮廓\n",
    "cv2.imshow('res',res)\n",
    "cv2.waitKey(0)\n",
    "cv2.destroyAllWindows()"
   ]
  },
  {
   "cell_type": "markdown",
   "metadata": {},
   "source": [
    "轮廓特征"
   ]
  },
  {
   "cell_type": "code",
   "execution_count": 19,
   "metadata": {},
   "outputs": [],
   "source": [
    "#轮廓不可以进行直接的计算，需要将轮廓取出来才可以使用\n",
    "cnt=contours[0]#取出轮廓"
   ]
  },
  {
   "cell_type": "code",
   "execution_count": 20,
   "metadata": {},
   "outputs": [
    {
     "data": {
      "text/plain": [
       "80431.0"
      ]
     },
     "execution_count": 20,
     "metadata": {},
     "output_type": "execute_result"
    }
   ],
   "source": [
    "cv2.contourArea(cnt)#计算轮廓的面积"
   ]
  },
  {
   "cell_type": "code",
   "execution_count": 23,
   "metadata": {},
   "outputs": [
    {
     "data": {
      "text/plain": [
       "1136.0"
      ]
     },
     "execution_count": 23,
     "metadata": {},
     "output_type": "execute_result"
    }
   ],
   "source": [
    "cv2.arcLength(cnt,True)#计算周长，True表示闭合的                         Flase表示非闭合"
   ]
  },
  {
   "cell_type": "markdown",
   "metadata": {},
   "source": [
    "轮廓近似"
   ]
  },
  {
   "cell_type": "code",
   "execution_count": 52,
   "metadata": {},
   "outputs": [],
   "source": [
    "img=cv2.imread('9.jpg')\n",
    "gray=cv2.cvtColor(img,cv2.COLOR_BGR2GRAY)\n",
    "ret,thresh=cv2.threshold(gray,127,255,cv2.THRESH_BINARY)\n",
    "contours,hierarchy=cv2.findContours(thresh,cv2.RETR_TREE,cv2.CHAIN_APPROX_NONE)\n",
    "cnt=contours[0]\n",
    "draw_img=img.copy()\n",
    "res=cv2.drawContours(draw_img,[cnt],-1,(0,0,255),2)\n",
    "cv2.imshow('res',res)\n",
    "cv2.waitKey(0)\n",
    "cv2.destroyAllWindows()"
   ]
  },
  {
   "cell_type": "code",
   "execution_count": 45,
   "metadata": {},
   "outputs": [],
   "source": [
    "epsilon=0.2*cv2.arcLength(cnt,True)#  值越小 与图像的轮廓越吻合，越大 轮廓越简单\n",
    "approx=cv2.approxPolyDP(cnt,epsilon,True)\n",
    "draw_img=img.copy()\n",
    "res=cv2.drawContours(draw_img,[approx],-1,(0,0,255),2)\n",
    "cv2.imshow('res',res)\n",
    "cv2.waitKey(0)\n",
    "cv2.destroyAllWindows()"
   ]
  },
  {
   "cell_type": "markdown",
   "metadata": {},
   "source": [
    "边界矩形"
   ]
  },
  {
   "cell_type": "code",
   "execution_count": 70,
   "metadata": {},
   "outputs": [],
   "source": [
    "img=cv2.imread('9.jpg')\n",
    "gray=cv2.cvtColor(img,cv2.COLOR_BGR2GRAY)\n",
    "ret,thresh=cv2.threshold(gray,127,255,cv2.THRESH_BINARY)\n",
    "contours,hierarchy=cv2.findContours(thresh,cv2.RETR_TREE,cv2.CHAIN_APPROX_NONE)\n",
    "cnt=contours[0]\n",
    "x,y,w,h=cv2.boundingRect(cnt)\n",
    "img=cv2.rectangle(img,(x,y),(x+w,y+h),(0,255,0),2)#在边界处链接一个矩形(外接矩形)\n",
    "cv2.imshow('img',img)\n",
    "cv2.waitKey(0)\n",
    "cv2.destroyAllWindows()"
   ]
  },
  {
   "cell_type": "code",
   "execution_count": 71,
   "metadata": {},
   "outputs": [
    {
     "name": "stdout",
     "output_type": "stream",
     "text": [
      "轮廓面积与边界矩形比: 0.9929753086419754\n"
     ]
    }
   ],
   "source": [
    "area=cv2.contourArea(cnt)\n",
    "x,y,w,h=cv2.boundingRect(cnt)\n",
    "rect_area=w*h\n",
    "extent=float(area)/rect_area\n",
    "print('轮廓面积与边界矩形比:',extent)"
   ]
  },
  {
   "cell_type": "markdown",
   "metadata": {},
   "source": [
    "外界圆 "
   ]
  },
  {
   "cell_type": "code",
   "execution_count": 73,
   "metadata": {},
   "outputs": [],
   "source": [
    "(x,y),radius=cv2.minEnclosingCircle(cnt)\n",
    "center=(int(x),int(y))\n",
    "radius=int(radius)\n",
    "img=cv2.circle(img,center,radius,(255,0,0),2)\n",
    "cv2.imshow('img',img)\n",
    "cv2.waitKey(0)\n",
    "cv2.destroyAllWindows()"
   ]
  }
 ],
 "metadata": {
  "kernelspec": {
   "display_name": "Python 3",
   "language": "python",
   "name": "python3"
  },
  "language_info": {
   "codemirror_mode": {
    "name": "ipython",
    "version": 3
   },
   "file_extension": ".py",
   "mimetype": "text/x-python",
   "name": "python",
   "nbconvert_exporter": "python",
   "pygments_lexer": "ipython3",
   "version": "3.7.4"
  }
 },
 "nbformat": 4,
 "nbformat_minor": 2
}
