{
 "cells": [
  {
   "cell_type": "markdown",
   "metadata": {},
   "source": [
    "Canny边缘检测   x=cv2.Canny(img,min阈值,max阈值)\n",
    "1.使用高斯滤波器，平滑图像，消除噪音\n",
    "2.计算每个方向的梯度强度和方向\n",
    "3.应用非极大值抑制，以消除边缘检测带来的杂散影响（所有值中取最大值）\n",
    "4.使用双阈值检测来确定真实和潜在的边缘\n",
    "5.通过抑制孤立的弱边缘最终完成边缘检测。"
   ]
  },
  {
   "cell_type": "code",
   "execution_count": 1,
   "metadata": {},
   "outputs": [],
   "source": [
    "import cv2\n",
    "import numpy as np\n",
    "import matplotlib.pyplot as plt"
   ]
  },
  {
   "cell_type": "code",
   "execution_count": 11,
   "metadata": {},
   "outputs": [],
   "source": [
    "img=cv2.imread('9.jpg',cv2.IMREAD_GRAYSCALE)\n",
    "cv2.imshow('b',img)\n",
    "cv2.waitKey(0)\n",
    "cv2.destroyAllWindows()"
   ]
  },
  {
   "cell_type": "code",
   "execution_count": 17,
   "metadata": {},
   "outputs": [],
   "source": [
    "a=cv2.Canny(img,50,100) # 通过对比两种不同大小的阈值 进行边缘的对比\n",
    "b=cv2.Canny(img,80,150)\n",
    "res=np.hstack((a,b))\n",
    "cv2.imshow('d',res)\n",
    "cv2.waitKey(0)\n",
    "cv2.destroyAllWindows()"
   ]
  }
 ],
 "metadata": {
  "kernelspec": {
   "display_name": "Python 3",
   "language": "python",
   "name": "python3"
  },
  "language_info": {
   "codemirror_mode": {
    "name": "ipython",
    "version": 3
   },
   "file_extension": ".py",
   "mimetype": "text/x-python",
   "name": "python",
   "nbconvert_exporter": "python",
   "pygments_lexer": "ipython3",
   "version": "3.7.4"
  }
 },
 "nbformat": 4,
 "nbformat_minor": 2
}
